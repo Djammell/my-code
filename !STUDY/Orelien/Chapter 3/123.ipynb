{
 "cells": [
  {
   "cell_type": "code",
   "execution_count": 1,
   "metadata": {},
   "outputs": [],
   "source": [
    "import numpy as np\n",
    "import struct as st\n",
    "import matplotlib.pyplot as plt"
   ]
  },
  {
   "cell_type": "code",
   "execution_count": 4,
   "metadata": {},
   "outputs": [],
   "source": [
    "file_test_x = 't10k-images.idx3-ubyte'\n",
    "file_test_y = 't10k-labels.idx1-ubyte'\n",
    "file_train_x = 'train-images.idx3-ubyte'\n",
    "file_train_y = 'train-labels.idx1-ubyte'"
   ]
  },
  {
   "cell_type": "code",
   "execution_count": 5,
   "metadata": {},
   "outputs": [],
   "source": [
    "def read_labels(labels_idx_file):\n",
    "    file = open(labels_idx_file, 'rb')\n",
    "    file.seek(0)\n",
    "    st.unpack('>4B', file.read(4))\n",
    "    NUM_SAMPLES = st.unpack('>I', file.read(4))[0]\n",
    "    outcome_array = np.zeros((NUM_SAMPLES,1), dtype = np.int32)\n",
    "    for i in range(NUM_SAMPLES):\n",
    "        result = st.unpack('>1B', file.read(1))\n",
    "        outcome_array[i] = np.int32(result)\n",
    "    return outcome_array\n",
    "\n",
    "def read_data(data_idx_file):\n",
    "    file = open(data_idx_file, 'rb')\n",
    "    file.seek(0)\n",
    "    st.unpack('>4B', file.read(4))\n",
    "    NUM_SAMPLES = st.unpack('>I', file.read(4))[0]\n",
    "    IMG_WIDTH = st.unpack('>I', file.read(4))[0]\n",
    "    IMG_HEIGHT = st.unpack('>I', file.read(4))[0]\n",
    "    outcome_array = np.zeros((NUM_SAMPLES, IMG_WIDTH, IMG_HEIGHT))\n",
    "    for i in range(NUM_SAMPLES):\n",
    "        result = st.unpack('>'+str(IMG_WIDTH*IMG_HEIGHT)+'B',file.read(IMG_WIDTH*IMG_HEIGHT))\n",
    "        result = np.asarray(result).reshape((IMG_WIDTH,IMG_HEIGHT))\n",
    "        outcome_array[i] = result\n",
    "    return outcome_array"
   ]
  },
  {
   "cell_type": "code",
   "execution_count": 27,
   "metadata": {},
   "outputs": [],
   "source": [
    "x_train = read_data(file_train_x)\n",
    "y_train = read_labels(file_train_y)\n",
    "x_test = read_data(file_test_x)\n",
    "y_test = read_labels(file_test_y)"
   ]
  }
 ],
 "metadata": {
  "kernelspec": {
   "display_name": "Python 3",
   "language": "python",
   "name": "python3"
  },
  "language_info": {
   "codemirror_mode": {
    "name": "ipython",
    "version": 3
   },
   "file_extension": ".py",
   "mimetype": "text/x-python",
   "name": "python",
   "nbconvert_exporter": "python",
   "pygments_lexer": "ipython3",
   "version": "3.7.1"
  }
 },
 "nbformat": 4,
 "nbformat_minor": 2
}
