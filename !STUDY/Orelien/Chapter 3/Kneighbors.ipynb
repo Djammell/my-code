{
 "cells": [
  {
   "cell_type": "code",
   "execution_count": 1,
   "metadata": {},
   "outputs": [],
   "source": [
    "%matplotlib inline\n",
    "import numpy as np\n",
    "import struct as st\n",
    "import matplotlib.pyplot as plt"
   ]
  },
  {
   "cell_type": "code",
   "execution_count": 2,
   "metadata": {},
   "outputs": [],
   "source": [
    "file_test_x = 't10k-images.idx3-ubyte'\n",
    "file_test_y = 't10k-labels.idx1-ubyte'\n",
    "file_train_x = 'train-images.idx3-ubyte'\n",
    "file_train_y = 'train-labels.idx1-ubyte'"
   ]
  },
  {
   "cell_type": "code",
   "execution_count": 3,
   "metadata": {},
   "outputs": [],
   "source": [
    "def read_labels(labels_idx_file):\n",
    "    file = open(labels_idx_file, 'rb')\n",
    "    file.seek(0)\n",
    "    st.unpack('>4B', file.read(4))\n",
    "    NUM_SAMPLES = st.unpack('>I', file.read(4))[0]\n",
    "    outcome_array = np.zeros((NUM_SAMPLES,1), dtype = np.int32)\n",
    "    for i in range(NUM_SAMPLES):\n",
    "        result = st.unpack('>1B', file.read(1))\n",
    "        outcome_array[i] = np.int32(result)\n",
    "    return outcome_array\n",
    "\n",
    "def read_data(data_idx_file):\n",
    "    file = open(data_idx_file, 'rb')\n",
    "    file.seek(0)\n",
    "    st.unpack('>4B', file.read(4))\n",
    "    NUM_SAMPLES = st.unpack('>I', file.read(4))[0]\n",
    "    IMG_WIDTH = st.unpack('>I', file.read(4))[0]\n",
    "    IMG_HEIGHT = st.unpack('>I', file.read(4))[0]\n",
    "    outcome_array = np.zeros((NUM_SAMPLES, IMG_WIDTH, IMG_HEIGHT))\n",
    "    for i in range(NUM_SAMPLES):\n",
    "        result = st.unpack('>'+str(IMG_WIDTH*IMG_HEIGHT)+'B',file.read(IMG_WIDTH*IMG_HEIGHT))\n",
    "        result = np.asarray(result).reshape((IMG_WIDTH,IMG_HEIGHT))\n",
    "        outcome_array[i] = result\n",
    "    return outcome_array"
   ]
  },
  {
   "cell_type": "code",
   "execution_count": 4,
   "metadata": {},
   "outputs": [],
   "source": [
    "x_test_proba = read_data(file_test_x)\n",
    "x_train_proba = read_data(file_train_x)\n",
    "y_test_proba = read_labels(file_test_y)\n",
    "y_train_proba = read_labels(file_train_y)"
   ]
  },
  {
   "cell_type": "code",
   "execution_count": 5,
   "metadata": {},
   "outputs": [],
   "source": [
    "x_train, y_train = x_train_proba.reshape(x_train_proba.shape[0], -1), y_train_proba\n",
    "x_test, y_test = x_test_proba.reshape(x_test_proba.shape[0], -1), y_test_proba"
   ]
  },
  {
   "cell_type": "code",
   "execution_count": 6,
   "metadata": {},
   "outputs": [],
   "source": [
    "shuffle_index = np.random.permutation(60000)\n",
    "x_train, y_train = x_train[shuffle_index], y_train[shuffle_index]"
   ]
  },
  {
   "cell_type": "code",
   "execution_count": 7,
   "metadata": {},
   "outputs": [],
   "source": [
    "from sklearn.neighbors import KNeighborsClassifier\n",
    "knn_clf = KNeighborsClassifier()"
   ]
  },
  {
   "cell_type": "code",
   "execution_count": 8,
   "metadata": {},
   "outputs": [],
   "source": [
    "from sklearn.model_selection import RandomizedSearchCV"
   ]
  },
  {
   "cell_type": "code",
   "execution_count": 9,
   "metadata": {},
   "outputs": [
    {
     "name": "stderr",
     "output_type": "stream",
     "text": [
      "C:\\Users\\Timur\\Anaconda3\\lib\\site-packages\\sklearn\\model_selection\\_search.py:740: DataConversionWarning: A column-vector y was passed when a 1d array was expected. Please change the shape of y to (n_samples, ), for example using ravel().\n",
      "  self.best_estimator_.fit(X, y, **fit_params)\n"
     ]
    },
    {
     "data": {
      "text/plain": [
       "RandomizedSearchCV(cv=3, error_score='raise-deprecating',\n",
       "          estimator=KNeighborsClassifier(algorithm='auto', leaf_size=30, metric='minkowski',\n",
       "           metric_params=None, n_jobs=None, n_neighbors=5, p=2,\n",
       "           weights='uniform'),\n",
       "          fit_params=None, iid='warn', n_iter=6, n_jobs=-1,\n",
       "          param_distributions={'n_neighbors': [2, 5, 7], 'weights': ['uniform', 'distance']},\n",
       "          pre_dispatch='2*n_jobs', random_state=42, refit=True,\n",
       "          return_train_score='warn', scoring='accuracy', verbose=0)"
      ]
     },
     "execution_count": 9,
     "metadata": {},
     "output_type": "execute_result"
    }
   ],
   "source": [
    "param_dist = {'n_neighbors': [2, 5, 7], \n",
    "              'weights': ['uniform', 'distance']\n",
    "              }\n",
    "random_search = RandomizedSearchCV (knn_clf, param_distributions=param_dist, n_iter = 6, \n",
    "                                    scoring = \"accuracy\", n_jobs=-1,cv=3, random_state=42)\n",
    "random_search.fit(x_train, y_train)"
   ]
  },
  {
   "cell_type": "code",
   "execution_count": 10,
   "metadata": {},
   "outputs": [
    {
     "data": {
      "text/plain": [
       "{'weights': 'distance', 'n_neighbors': 2}"
      ]
     },
     "execution_count": 10,
     "metadata": {},
     "output_type": "execute_result"
    }
   ],
   "source": [
    "random_search.best_params_"
   ]
  },
  {
   "cell_type": "code",
   "execution_count": 15,
   "metadata": {},
   "outputs": [
    {
     "data": {
      "text/plain": [
       "<bound method BaseSearchCV.score of RandomizedSearchCV(cv=3, error_score='raise-deprecating',\n",
       "          estimator=KNeighborsClassifier(algorithm='auto', leaf_size=30, metric='minkowski',\n",
       "           metric_params=None, n_jobs=None, n_neighbors=5, p=2,\n",
       "           weights='uniform'),\n",
       "          fit_params=None, iid='warn', n_iter=6, n_jobs=-1,\n",
       "          param_distributions={'n_neighbors': [2, 5, 7], 'weights': ['uniform', 'distance']},\n",
       "          pre_dispatch='2*n_jobs', random_state=42, refit=True,\n",
       "          return_train_score='warn', scoring='accuracy', verbose=0)>"
      ]
     },
     "execution_count": 15,
     "metadata": {},
     "output_type": "execute_result"
    }
   ],
   "source": [
    "random_search.score"
   ]
  },
  {
   "cell_type": "code",
   "execution_count": 17,
   "metadata": {},
   "outputs": [
    {
     "data": {
      "text/plain": [
       "0.9705666666666667"
      ]
     },
     "execution_count": 17,
     "metadata": {},
     "output_type": "execute_result"
    }
   ],
   "source": [
    "random_search.best_score_"
   ]
  }
 ],
 "metadata": {
  "kernelspec": {
   "display_name": "Python 3",
   "language": "python",
   "name": "python3"
  },
  "language_info": {
   "codemirror_mode": {
    "name": "ipython",
    "version": 3
   },
   "file_extension": ".py",
   "mimetype": "text/x-python",
   "name": "python",
   "nbconvert_exporter": "python",
   "pygments_lexer": "ipython3",
   "version": "3.7.3"
  }
 },
 "nbformat": 4,
 "nbformat_minor": 2
}
