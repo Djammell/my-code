{
 "cells": [
  {
   "cell_type": "code",
   "execution_count": 7,
   "metadata": {},
   "outputs": [
    {
     "name": "stdout",
     "output_type": "stream",
     "text": [
      "квадрат числа 1  будет = 1\n",
      "квадрат числа 2  будет = 4\n",
      "квадрат числа 3  будет = 9\n",
      "квадрат числа 4  будет = 16\n"
     ]
    }
   ],
   "source": [
    "def square(a):\n",
    "    \"\"\"Высчитывает квадрат числа а\"\"\"\n",
    "    return a**2\n",
    "for n in range(1,5):\n",
    "    print(\"квадрат числа\", n,\" будет =\", square(n))"
   ]
  },
  {
   "cell_type": "code",
   "execution_count": null,
   "metadata": {},
   "outputs": [],
   "source": []
  }
 ],
 "metadata": {
  "kernelspec": {
   "display_name": "Python 3",
   "language": "python",
   "name": "python3"
  },
  "language_info": {
   "codemirror_mode": {
    "name": "ipython",
    "version": 3
   },
   "file_extension": ".py",
   "mimetype": "text/x-python",
   "name": "python",
   "nbconvert_exporter": "python",
   "pygments_lexer": "ipython3",
   "version": "3.7.1"
  }
 },
 "nbformat": 4,
 "nbformat_minor": 2
}
