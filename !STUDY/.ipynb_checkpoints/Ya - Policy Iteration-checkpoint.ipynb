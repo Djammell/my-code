{
 "cells": [
  {
   "cell_type": "code",
   "execution_count": 1,
   "metadata": {},
   "outputs": [],
   "source": [
    "transition_probs = {\n",
    "    's0': {\n",
    "        'a0':{'s0':0.5, 's2':0.5},\n",
    "        'a1':{'s1':1.0}\n",
    "          },\n",
    "    's1': {\n",
    "        'a0': {'s0':0.7 ,'s1':0.1 ,'s2':0.2},\n",
    "        'a1':{'s1':0.95 ,'s2':0.05},\n",
    "          },\n",
    "    's2':{\n",
    "        'a0': {'s0':0.4 ,'s2':0.6},\n",
    "        'a1': {'s0':0.3 ,'s1':0.3 ,'s2':0.4}    \n",
    "         }\n",
    "}\n",
    "rewards = {\n",
    "    's1':{'a0':{'s0': +5}},\n",
    "    's2':{'a1':{'s0': +1}}\n",
    "}\n",
    "from mdp import MDP\n",
    "mdp = MDP(transition_probs, rewards, initial_state='s0')"
   ]
  },
  {
   "cell_type": "code",
   "execution_count": 258,
   "metadata": {},
   "outputs": [],
   "source": [
    "import numpy as np"
   ]
  },
  {
   "cell_type": "code",
   "execution_count": 260,
   "metadata": {},
   "outputs": [],
   "source": [
    "policy = {s: np.random.choice(\n",
    "    mdp.get_possible_actions(s)) for s in mdp.get_all_states()}"
   ]
  },
  {
   "cell_type": "code",
   "execution_count": 282,
   "metadata": {},
   "outputs": [],
   "source": [
    "import numpy as np\n",
    "def compute_vpi (mdp, policy, gamma):\n",
    "    vpi_s = {state: 0 for state in mdp.get_all_states()} # перед тем как начать вычислять функцию ценности инициализируем ее нулями здесь для всех состояний среды\n",
    "    vpi = vpi_s.copy()\n",
    "    for state in policy:\n",
    "        action = policy[state]\n",
    "        for next_state in mdp.get_next_states(state, action):\n",
    "            reward = mdp.get_reward(state, action, next_state)\n",
    "            transition_prob = mdp.get_transition_prob(state, action, next_state)\n",
    "            vpi[state] += transition_prob*(reward+gamma*vpi_s[next_state])\n",
    "            \n",
    "    return vpi"
   ]
  },
  {
   "cell_type": "code",
   "execution_count": null,
   "metadata": {},
   "outputs": [],
   "source": [
    "def compute_new_policy (mdp, vpi, gamma):\n",
    "    \"\"\"\n",
    "    Computes new policy as argmax of state values\n",
    "    :param vpi: a dict {state : V^pi(state) for all states}\n",
    "    :returns: a dict {state : optimal action for all states}\n",
    "    \"\"\"\n",
    "    for state in mdp.get_all_states:\n",
    "        new_policy = compute_vpi()"
   ]
  }
 ],
 "metadata": {
  "kernelspec": {
   "display_name": "Python 3",
   "language": "python",
   "name": "python3"
  },
  "language_info": {
   "codemirror_mode": {
    "name": "ipython",
    "version": 3
   },
   "file_extension": ".py",
   "mimetype": "text/x-python",
   "name": "python",
   "nbconvert_exporter": "python",
   "pygments_lexer": "ipython3",
   "version": "3.7.1"
  }
 },
 "nbformat": 4,
 "nbformat_minor": 2
}
