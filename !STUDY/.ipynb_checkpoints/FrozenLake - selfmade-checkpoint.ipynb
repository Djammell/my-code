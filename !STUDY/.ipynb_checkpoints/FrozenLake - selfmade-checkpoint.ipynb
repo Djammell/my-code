{
 "cells": [
  {
   "cell_type": "code",
   "execution_count": 493,
   "metadata": {},
   "outputs": [],
   "source": [
    "import gym\n",
    "import numpy as np"
   ]
  },
  {
   "cell_type": "code",
   "execution_count": 494,
   "metadata": {
    "scrolled": true
   },
   "outputs": [
    {
     "data": {
      "text/plain": [
       "0"
      ]
     },
     "execution_count": 494,
     "metadata": {},
     "output_type": "execute_result"
    }
   ],
   "source": [
    "env = gym.make('FrozenLake8x8-v0')\n",
    "env.reset()"
   ]
  },
  {
   "cell_type": "code",
   "execution_count": 495,
   "metadata": {},
   "outputs": [],
   "source": [
    "num_states = env.observation_space.n\n",
    "num_actions = env.action_space.n"
   ]
  },
  {
   "cell_type": "code",
   "execution_count": 531,
   "metadata": {},
   "outputs": [],
   "source": [
    "q_value = np.zeros ((num_states,num_actions))"
   ]
  },
  {
   "cell_type": "code",
   "execution_count": 535,
   "metadata": {},
   "outputs": [
    {
     "name": "stdout",
     "output_type": "stream",
     "text": [
      "Terminated 0\n",
      "новая Vpi:           [3 2 2 2 2 2 2 2 3 3 3 3 2 2 2 1 3 3 0 0 2 3 2 1 3 3 3 1 0 0 2 1 3 3 0 0 2\n",
      " 1 3 2 0 0 0 1 3 0 0 2 0 0 1 0 0 0 0 2 2 1 0 0 1 1 1 0]\n"
     ]
    }
   ],
   "source": [
    "gamma = 0.9\n",
    "min_difference = 0.0001\n",
    "num_iteration = 1000\n",
    "for j in range (num_iteration):\n",
    "    old_q_value = q_value.copy()\n",
    "    q_value = np.zeros ((num_states,num_actions))\n",
    "    for state in env.P:\n",
    "        for action in env.P[state]:\n",
    "            for i in env.P[state][action]:\n",
    "                probability = i[0]\n",
    "                next_state = i[1]\n",
    "                reward = i[2]\n",
    "                state_value = np.max(old_q_value[next_state])\n",
    "                q_value[state,action] += probability * (reward + gamma * state_value)\n",
    "    old_state_value = np.max(old_q_value, axis=1)\n",
    "    new_state_value = np.max(q_value, axis=1)\n",
    "    diff = max(abs(new_state_value - old_state_value))\n",
    "#     print(diff)\n",
    "# нужно найти как вычислять разницу \n",
    "    if diff < min_difference:\n",
    "        print(\"Terminated\", j)\n",
    "        print (\"новая Vpi:          \", np.argmax(q_value, axis=1))\n",
    "        break\n",
    "   "
   ]
  },
  {
   "cell_type": "code",
   "execution_count": 513,
   "metadata": {},
   "outputs": [
    {
     "data": {
      "text/plain": [
       "1"
      ]
     },
     "execution_count": 513,
     "metadata": {},
     "output_type": "execute_result"
    }
   ],
   "source": [
    "x = np.array([1,1,2])\n",
    "y = np.array([1,1,1])\n",
    "max(x-y)"
   ]
  },
  {
   "cell_type": "code",
   "execution_count": null,
   "metadata": {},
   "outputs": [],
   "source": []
  }
 ],
 "metadata": {
  "kernelspec": {
   "display_name": "Python 3",
   "language": "python",
   "name": "python3"
  },
  "language_info": {
   "codemirror_mode": {
    "name": "ipython",
    "version": 3
   },
   "file_extension": ".py",
   "mimetype": "text/x-python",
   "name": "python",
   "nbconvert_exporter": "python",
   "pygments_lexer": "ipython3",
   "version": "3.7.1"
  }
 },
 "nbformat": 4,
 "nbformat_minor": 2
}
