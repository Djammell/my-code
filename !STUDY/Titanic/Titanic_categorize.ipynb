{
 "cells": [
  {
   "cell_type": "code",
   "execution_count": 1,
   "metadata": {},
   "outputs": [],
   "source": [
    "%matplotlib inline\n",
    "import matplotlib.pyplot as plt\n",
    "import os \n",
    "import pandas as pd\n",
    "import numpy as np\n",
    "from sklearn.metrics import confusion_matrix, precision_score, recall_score, f1_score\n",
    "from sklearn.model_selection import cross_val_predict\n",
    "from sklearn.svm import SVC\n",
    "from sklearn.model_selection import cross_val_score\n",
    "from sklearn.preprocessing import StandardScaler, OneHotEncoder\n",
    "from sklearn.linear_model import SGDClassifier\n",
    "from sklearn.ensemble import RandomForestClassifier\n",
    "from sklearn.neighbors import KNeighborsClassifier\n",
    "from sklearn.model_selection import RandomizedSearchCV"
   ]
  },
  {
   "cell_type": "markdown",
   "metadata": {},
   "source": [
    "## Подготовка данных"
   ]
  },
  {
   "cell_type": "code",
   "execution_count": 2,
   "metadata": {},
   "outputs": [],
   "source": [
    "def load_data(data_path = None): #функция для считывания .csv - файла\n",
    "    csv_path = os.path.join(data_path)\n",
    "    return pd.read_csv(csv_path)"
   ]
  },
  {
   "cell_type": "code",
   "execution_count": 3,
   "metadata": {},
   "outputs": [],
   "source": [
    "gender_submission = load_data(\"gender_submission.csv\")\n",
    "train_set = load_data(\"train.csv\")\n",
    "test_set = load_data(\"test.csv\")"
   ]
  },
  {
   "cell_type": "code",
   "execution_count": 4,
   "metadata": {},
   "outputs": [],
   "source": [
    "mean_age = train_set[\"Age\"].mean()\n",
    "mean_age_test = test_set[\"Age\"].mean()\n",
    "train_set[\"Age\"].fillna(mean_age, inplace = True)\n",
    "test_set[\"Age\"].fillna(mean_age_test, inplace = True)"
   ]
  },
  {
   "cell_type": "code",
   "execution_count": 5,
   "metadata": {
    "scrolled": true
   },
   "outputs": [
    {
     "name": "stderr",
     "output_type": "stream",
     "text": [
      "C:\\ProgramData\\Anaconda3\\lib\\site-packages\\sklearn\\preprocessing\\_encoders.py:368: FutureWarning: The handling of integer data will change in version 0.22. Currently, the categories are determined based on the range [0, max(values)], while in the future they will be determined based on the unique values.\n",
      "If you want the future behaviour and silence this warning, you can specify \"categories='auto'\".\n",
      "In case you used a LabelEncoder before this OneHotEncoder to convert the categories to integers, then you can now use the OneHotEncoder directly.\n",
      "  warnings.warn(msg, FutureWarning)\n"
     ]
    }
   ],
   "source": [
    "Embarked_cat = train_set['Embarked']\n",
    "Embarked_cat_encoded, Embarked_cat_categories = Embarked_cat.factorize(na_sentinel = 0)\n",
    "encoder = OneHotEncoder(sparse=False)\n",
    "Embarked_cat_1hot = encoder.fit_transform(Embarked_cat_encoded.reshape(-1, 1))\n",
    "train_set['Embarked'] = Embarked_cat_encoded\n",
    "train_set['Embarked_cat_A'] = Embarked_cat_1hot[:,0]\n",
    "train_set['Embarked_cat_B'] = Embarked_cat_1hot[:,1]\n",
    "train_set['Embarked_cat_C'] = Embarked_cat_1hot[:,2]"
   ]
  },
  {
   "cell_type": "code",
   "execution_count": 6,
   "metadata": {
    "scrolled": false
   },
   "outputs": [
    {
     "name": "stderr",
     "output_type": "stream",
     "text": [
      "C:\\ProgramData\\Anaconda3\\lib\\site-packages\\sklearn\\preprocessing\\_encoders.py:368: FutureWarning: The handling of integer data will change in version 0.22. Currently, the categories are determined based on the range [0, max(values)], while in the future they will be determined based on the unique values.\n",
      "If you want the future behaviour and silence this warning, you can specify \"categories='auto'\".\n",
      "In case you used a LabelEncoder before this OneHotEncoder to convert the categories to integers, then you can now use the OneHotEncoder directly.\n",
      "  warnings.warn(msg, FutureWarning)\n"
     ]
    }
   ],
   "source": [
    "Embarked_cat_test = test_set['Embarked']\n",
    "Embarked_cat_test_encoded, Embarked_cat_test_categories = Embarked_cat_test.factorize()\n",
    "Embarked_cat_test_1hot = encoder.fit_transform(Embarked_cat_test_encoded.reshape(-1, 1))\n",
    "test_set['Embarked'] = Embarked_cat_test_encoded\n",
    "test_set['Embarked_cat_A'] = Embarked_cat_test_1hot[:,0]\n",
    "test_set['Embarked_cat_B'] = Embarked_cat_test_1hot[:,1]\n",
    "test_set['Embarked_cat_C'] = Embarked_cat_test_1hot[:,2]"
   ]
  },
  {
   "cell_type": "code",
   "execution_count": 7,
   "metadata": {},
   "outputs": [
    {
     "name": "stderr",
     "output_type": "stream",
     "text": [
      "C:\\ProgramData\\Anaconda3\\lib\\site-packages\\sklearn\\preprocessing\\_encoders.py:368: FutureWarning: The handling of integer data will change in version 0.22. Currently, the categories are determined based on the range [0, max(values)], while in the future they will be determined based on the unique values.\n",
      "If you want the future behaviour and silence this warning, you can specify \"categories='auto'\".\n",
      "In case you used a LabelEncoder before this OneHotEncoder to convert the categories to integers, then you can now use the OneHotEncoder directly.\n",
      "  warnings.warn(msg, FutureWarning)\n"
     ]
    }
   ],
   "source": [
    "Sex_cat = train_set['Sex']\n",
    "Sex_cat_encoded, Sex_cat_categories = Sex_cat.factorize()\n",
    "Sex_cat_1hot = encoder.fit_transform(Sex_cat_encoded.reshape(-1, 1))\n",
    "train_set['Sex'] = Sex_cat_encoded\n",
    "train_set['Sex_cat_A'] = Sex_cat_1hot[:,0]\n",
    "train_set['Sex_cat_B'] = Sex_cat_1hot[:,1]"
   ]
  },
  {
   "cell_type": "code",
   "execution_count": 8,
   "metadata": {},
   "outputs": [
    {
     "name": "stderr",
     "output_type": "stream",
     "text": [
      "C:\\ProgramData\\Anaconda3\\lib\\site-packages\\sklearn\\preprocessing\\_encoders.py:368: FutureWarning: The handling of integer data will change in version 0.22. Currently, the categories are determined based on the range [0, max(values)], while in the future they will be determined based on the unique values.\n",
      "If you want the future behaviour and silence this warning, you can specify \"categories='auto'\".\n",
      "In case you used a LabelEncoder before this OneHotEncoder to convert the categories to integers, then you can now use the OneHotEncoder directly.\n",
      "  warnings.warn(msg, FutureWarning)\n"
     ]
    }
   ],
   "source": [
    "Sex_cat_test = test_set['Sex']\n",
    "Sex_cat_test_encoded, Sex_cat_test_categories = Sex_cat_test.factorize()\n",
    "Sex_cat_test_1hot = encoder.fit_transform(Sex_cat_test_encoded.reshape(-1, 1))\n",
    "test_set['Sex'] = Sex_cat_test_encoded\n",
    "test_set['Sex_cat_A'] = Sex_cat_test_1hot[:,0]\n",
    "test_set['Sex_cat_B'] = Sex_cat_test_1hot[:,1]"
   ]
  },
  {
   "cell_type": "code",
   "execution_count": 27,
   "metadata": {
    "scrolled": true
   },
   "outputs": [
    {
     "data": {
      "text/plain": [
       "Survived          1.000000\n",
       "Sex_cat_B         0.543351\n",
       "Sex               0.543351\n",
       "Fare              0.257307\n",
       "Embarked_cat_B    0.168240\n",
       "Embarked          0.106811\n",
       "Parch             0.081629\n",
       "Embarked_cat_C    0.003650\n",
       "PassengerId      -0.005007\n",
       "SibSp            -0.035322\n",
       "Age              -0.069809\n",
       "Embarked_cat_A   -0.149683\n",
       "Pclass           -0.338481\n",
       "Sex_cat_A        -0.543351\n",
       "Name: Survived, dtype: float64"
      ]
     },
     "execution_count": 27,
     "metadata": {},
     "output_type": "execute_result"
    }
   ],
   "source": [
    "corr_matrix = train_set.corr()\n",
    "corr_matrix['Survived'].sort_values(ascending=False)"
   ]
  },
  {
   "cell_type": "code",
   "execution_count": 9,
   "metadata": {
    "scrolled": true
   },
   "outputs": [],
   "source": [
    "def categorized_age (dataframe,column_to_attr, column):\n",
    "    dataframe[column] = np.ceil(train_set[column_to_attr])\n",
    "    a = dataframe[column].copy()\n",
    "    for item in dataframe[column].index:\n",
    "        x = dataframe[column][item]\n",
    "        if x < 18:\n",
    "            x = 1\n",
    "        elif x >= 18 and x < 28:\n",
    "            x = 2\n",
    "        elif x >= 28 and x < 30:\n",
    "            x = 3\n",
    "        elif x >= 30 and x < 40:\n",
    "            x = 4\n",
    "        elif x >= 40 and x < 46:\n",
    "            x = 5\n",
    "        elif x >= 46:\n",
    "            x = 6\n",
    "        a.iloc[item] = x\n",
    "    dataframe[column] = a \n",
    "    return dataframe[column]      "
   ]
  },
  {
   "cell_type": "code",
   "execution_count": 40,
   "metadata": {},
   "outputs": [],
   "source": [
    "def categorized_Fare (dataframe,column_to_attr, column):\n",
    "    dataframe[column] = np.ceil(train_set[column_to_attr])\n",
    "    a = dataframe[column].copy()\n",
    "    for item in dataframe[column].index:\n",
    "        x = dataframe[column][item]\n",
    "        if x < 8:\n",
    "            x = 1\n",
    "        elif x >= 8 and x < 15:\n",
    "            x = 2\n",
    "        elif x >= 15 and x < 23:\n",
    "            x = 3\n",
    "        elif x >= 23 and x < 32:\n",
    "            x = 4\n",
    "        elif x >= 32 :\n",
    "            x = 5\n",
    "       \n",
    "        a.iloc[item] = x\n",
    "    dataframe[column] = a \n",
    "    return dataframe[column]   "
   ]
  },
  {
   "cell_type": "code",
   "execution_count": 38,
   "metadata": {},
   "outputs": [
    {
     "data": {
      "image/png": "[encoded data removed]",
      "text/plain": [
       "<Figure size 360x216 with 1 Axes>"
      ]
     },
     "metadata": {
      "needs_background": "light"
     },
     "output_type": "display_data"
    }
   ],
   "source": [
    "train_set['Fare'].hist(bins=50, figsize=(5,3))\n",
    "plt.show()"
   ]
  },
  {
   "cell_type": "code",
   "execution_count": 39,
   "metadata": {},
   "outputs": [
    {
     "data": {
      "text/plain": [
       "count    891.000000\n",
       "mean      32.204208\n",
       "std       49.693429\n",
       "min        0.000000\n",
       "25%        7.910400\n",
       "50%       14.454200\n",
       "75%       31.000000\n",
       "max      512.329200\n",
       "Name: Fare, dtype: float64"
      ]
     },
     "execution_count": 39,
     "metadata": {},
     "output_type": "execute_result"
    }
   ],
   "source": [
    "train_set['Fare'].describe()"
   ]
  },
  {
   "cell_type": "code",
   "execution_count": 41,
   "metadata": {},
   "outputs": [
    {
     "name": "stderr",
     "output_type": "stream",
     "text": [
      "C:\\ProgramData\\Anaconda3\\lib\\site-packages\\sklearn\\preprocessing\\_encoders.py:368: FutureWarning: The handling of integer data will change in version 0.22. Currently, the categories are determined based on the range [0, max(values)], while in the future they will be determined based on the unique values.\n",
      "If you want the future behaviour and silence this warning, you can specify \"categories='auto'\".\n",
      "In case you used a LabelEncoder before this OneHotEncoder to convert the categories to integers, then you can now use the OneHotEncoder directly.\n",
      "  warnings.warn(msg, FutureWarning)\n",
      "C:\\ProgramData\\Anaconda3\\lib\\site-packages\\sklearn\\preprocessing\\_encoders.py:368: FutureWarning: The handling of integer data will change in version 0.22. Currently, the categories are determined based on the range [0, max(values)], while in the future they will be determined based on the unique values.\n",
      "If you want the future behaviour and silence this warning, you can specify \"categories='auto'\".\n",
      "In case you used a LabelEncoder before this OneHotEncoder to convert the categories to integers, then you can now use the OneHotEncoder directly.\n",
      "  warnings.warn(msg, FutureWarning)\n"
     ]
    }
   ],
   "source": [
    "train_set['Fare_cat'] = categorized_Fare(train_set, column_to_attr='Fare', column = 'Fare_cat')\n",
    "test_set['Fare_cat'] = categorized_Fare(test_set, column_to_attr='Fare', column='Fare_cat')\n",
    "\n",
    "Fare_category = train_set['Fare_cat']\n",
    "Fare_category_encoded, Fare_category_categories = Fare_category.factorize()\n",
    "Fare_category_1hot = encoder.fit_transform(Fare_category_encoded.reshape(-1, 1))\n",
    "train_set['Fare_cat'] = Fare_category_encoded\n",
    "train_set['Fare_category_1'] = Fare_category_1hot[:,0]\n",
    "train_set['Fare_category_2'] = Fare_category_1hot[:,1]\n",
    "train_set['Fare_category_3'] = Fare_category_1hot[:,2]\n",
    "train_set['Fare_category_4'] = Fare_category_1hot[:,3]\n",
    "train_set['Fare_category_5'] = Fare_category_1hot[:,4]\n",
    "\n",
    "\n",
    "\n",
    "Fare_category_test = test_set['Fare_cat']\n",
    "Fare_category_test_encoded, Fare_category_test_categories = Fare_category_test.factorize()\n",
    "Fare_category_test_1hot = encoder.fit_transform(Fare_category_test_encoded.reshape(-1, 1))\n",
    "test_set['Fare_cat'] = Fare_category_test_encoded\n",
    "test_set['Fare_category_1'] = Fare_category_test_1hot[:,0]\n",
    "test_set['Fare_category_2'] = Fare_category_test_1hot[:,1]\n",
    "test_set['Fare_category_3'] = Fare_category_test_1hot[:,2]\n",
    "test_set['Fare_category_4'] = Fare_category_test_1hot[:,3]\n",
    "test_set['Fare_category_5'] = Fare_category_test_1hot[:,4]\n"
   ]
  },
  {
   "cell_type": "code",
   "execution_count": 42,
   "metadata": {},
   "outputs": [
    {
     "name": "stderr",
     "output_type": "stream",
     "text": [
      "C:\\ProgramData\\Anaconda3\\lib\\site-packages\\sklearn\\preprocessing\\_encoders.py:368: FutureWarning: The handling of integer data will change in version 0.22. Currently, the categories are determined based on the range [0, max(values)], while in the future they will be determined based on the unique values.\n",
      "If you want the future behaviour and silence this warning, you can specify \"categories='auto'\".\n",
      "In case you used a LabelEncoder before this OneHotEncoder to convert the categories to integers, then you can now use the OneHotEncoder directly.\n",
      "  warnings.warn(msg, FutureWarning)\n",
      "C:\\ProgramData\\Anaconda3\\lib\\site-packages\\sklearn\\preprocessing\\_encoders.py:368: FutureWarning: The handling of integer data will change in version 0.22. Currently, the categories are determined based on the range [0, max(values)], while in the future they will be determined based on the unique values.\n",
      "If you want the future behaviour and silence this warning, you can specify \"categories='auto'\".\n",
      "In case you used a LabelEncoder before this OneHotEncoder to convert the categories to integers, then you can now use the OneHotEncoder directly.\n",
      "  warnings.warn(msg, FutureWarning)\n"
     ]
    }
   ],
   "source": [
    "train_set['age_cat'] = categorized_age(train_set, column_to_attr='Age', column = 'age_cat')\n",
    "test_set['age_cat'] = categorized_age(test_set, column_to_attr='Age', column='age_cat')\n",
    "\n",
    "Age_category = train_set['age_cat']\n",
    "Age_category_encoded, Age_category_categories = Age_category.factorize()\n",
    "Age_category_1hot = encoder.fit_transform(Age_category_encoded.reshape(-1, 1))\n",
    "train_set['age_cat'] = Age_category_encoded\n",
    "train_set['Age_category_1'] = Age_category_1hot[:,0]\n",
    "train_set['Age_category_2'] = Age_category_1hot[:,1]\n",
    "train_set['Age_category_3'] = Age_category_1hot[:,2]\n",
    "train_set['Age_category_4'] = Age_category_1hot[:,3]\n",
    "train_set['Age_category_5'] = Age_category_1hot[:,4]\n",
    "train_set['Age_category_6'] = Age_category_1hot[:,5]\n",
    "\n",
    "\n",
    "Age_category_test = test_set['age_cat']\n",
    "Age_category_test_encoded, Age_category_test_categories = Age_category_test.factorize()\n",
    "Age_category_test_1hot = encoder.fit_transform(Age_category_test_encoded.reshape(-1, 1))\n",
    "test_set['age_cat'] = Age_category_test_encoded\n",
    "test_set['Age_category_1'] = Age_category_test_1hot[:,0]\n",
    "test_set['Age_category_2'] = Age_category_test_1hot[:,1]\n",
    "test_set['Age_category_3'] = Age_category_test_1hot[:,2]\n",
    "test_set['Age_category_4'] = Age_category_test_1hot[:,3]\n",
    "test_set['Age_category_5'] = Age_category_test_1hot[:,4]\n",
    "test_set['Age_category_6'] = Age_category_test_1hot[:,5]"
   ]
  },
  {
   "cell_type": "code",
   "execution_count": 43,
   "metadata": {
    "scrolled": false
   },
   "outputs": [
    {
     "data": {
      "text/html": [
       "<div>\n",
       "<style scoped>\n",
       "    .dataframe tbody tr th:only-of-type {\n",
       "        vertical-align: middle;\n",
       "    }\n",
       "\n",
       "    .dataframe tbody tr th {\n",
       "        vertical-align: top;\n",
       "    }\n",
       "\n",
       "    .dataframe thead th {\n",
       "        text-align: right;\n",
       "    }\n",
       "</style>\n",
       "<table border=\"1\" class=\"dataframe\">\n",
       "  <thead>\n",
       "    <tr style=\"text-align: right;\">\n",
       "      <th></th>\n",
       "      <th>PassengerId</th>\n",
       "      <th>Survived</th>\n",
       "      <th>Pclass</th>\n",
       "      <th>Name</th>\n",
       "      <th>Sex</th>\n",
       "      <th>Age</th>\n",
       "      <th>SibSp</th>\n",
       "      <th>Parch</th>\n",
       "      <th>Ticket</th>\n",
       "      <th>Fare</th>\n",
       "      <th>...</th>\n",
       "      <th>Age_category_6</th>\n",
       "      <th>Fare_category_1</th>\n",
       "      <th>Fare_category_2</th>\n",
       "      <th>Fare_category_3</th>\n",
       "      <th>Fare_category_4</th>\n",
       "      <th>Fare_category_5</th>\n",
       "      <th>Fare_category_6</th>\n",
       "      <th>Fare_category_7</th>\n",
       "      <th>Fare_category_8</th>\n",
       "      <th>Fare_category_9</th>\n",
       "    </tr>\n",
       "  </thead>\n",
       "  <tbody>\n",
       "    <tr>\n",
       "      <th>0</th>\n",
       "      <td>1</td>\n",
       "      <td>0</td>\n",
       "      <td>3</td>\n",
       "      <td>Braund, Mr. Owen Harris</td>\n",
       "      <td>0</td>\n",
       "      <td>22.0</td>\n",
       "      <td>1</td>\n",
       "      <td>0</td>\n",
       "      <td>A/5 21171</td>\n",
       "      <td>7.2500</td>\n",
       "      <td>...</td>\n",
       "      <td>0.0</td>\n",
       "      <td>1.0</td>\n",
       "      <td>0.0</td>\n",
       "      <td>0.0</td>\n",
       "      <td>0.0</td>\n",
       "      <td>0.0</td>\n",
       "      <td>0.0</td>\n",
       "      <td>0.0</td>\n",
       "      <td>0.0</td>\n",
       "      <td>0.0</td>\n",
       "    </tr>\n",
       "    <tr>\n",
       "      <th>1</th>\n",
       "      <td>2</td>\n",
       "      <td>1</td>\n",
       "      <td>1</td>\n",
       "      <td>Cumings, Mrs. John Bradley (Florence Briggs Th...</td>\n",
       "      <td>1</td>\n",
       "      <td>38.0</td>\n",
       "      <td>1</td>\n",
       "      <td>0</td>\n",
       "      <td>PC 17599</td>\n",
       "      <td>71.2833</td>\n",
       "      <td>...</td>\n",
       "      <td>0.0</td>\n",
       "      <td>0.0</td>\n",
       "      <td>1.0</td>\n",
       "      <td>0.0</td>\n",
       "      <td>0.0</td>\n",
       "      <td>0.0</td>\n",
       "      <td>0.0</td>\n",
       "      <td>0.0</td>\n",
       "      <td>0.0</td>\n",
       "      <td>0.0</td>\n",
       "    </tr>\n",
       "    <tr>\n",
       "      <th>2</th>\n",
       "      <td>3</td>\n",
       "      <td>1</td>\n",
       "      <td>3</td>\n",
       "      <td>Heikkinen, Miss. Laina</td>\n",
       "      <td>1</td>\n",
       "      <td>26.0</td>\n",
       "      <td>0</td>\n",
       "      <td>0</td>\n",
       "      <td>STON/O2. 3101282</td>\n",
       "      <td>7.9250</td>\n",
       "      <td>...</td>\n",
       "      <td>0.0</td>\n",
       "      <td>1.0</td>\n",
       "      <td>0.0</td>\n",
       "      <td>0.0</td>\n",
       "      <td>0.0</td>\n",
       "      <td>0.0</td>\n",
       "      <td>0.0</td>\n",
       "      <td>0.0</td>\n",
       "      <td>0.0</td>\n",
       "      <td>0.0</td>\n",
       "    </tr>\n",
       "  </tbody>\n",
       "</table>\n",
       "<p>3 rows × 34 columns</p>\n",
       "</div>"
      ],
      "text/plain": [
       "   PassengerId  Survived  Pclass  \\\n",
       "0            1         0       3   \n",
       "1            2         1       1   \n",
       "2            3         1       3   \n",
       "\n",
       "                                                Name  Sex   Age  SibSp  Parch  \\\n",
       "0                            Braund, Mr. Owen Harris    0  22.0      1      0   \n",
       "1  Cumings, Mrs. John Bradley (Florence Briggs Th...    1  38.0      1      0   \n",
       "2                             Heikkinen, Miss. Laina    1  26.0      0      0   \n",
       "\n",
       "             Ticket     Fare       ...        Age_category_6  Fare_category_1  \\\n",
       "0         A/5 21171   7.2500       ...                   0.0              1.0   \n",
       "1          PC 17599  71.2833       ...                   0.0              0.0   \n",
       "2  STON/O2. 3101282   7.9250       ...                   0.0              1.0   \n",
       "\n",
       "   Fare_category_2  Fare_category_3  Fare_category_4  Fare_category_5  \\\n",
       "0              0.0              0.0              0.0              0.0   \n",
       "1              1.0              0.0              0.0              0.0   \n",
       "2              0.0              0.0              0.0              0.0   \n",
       "\n",
       "   Fare_category_6  Fare_category_7  Fare_category_8  Fare_category_9  \n",
       "0              0.0              0.0              0.0              0.0  \n",
       "1              0.0              0.0              0.0              0.0  \n",
       "2              0.0              0.0              0.0              0.0  \n",
       "\n",
       "[3 rows x 34 columns]"
      ]
     },
     "execution_count": 43,
     "metadata": {},
     "output_type": "execute_result"
    }
   ],
   "source": [
    "train_set.head(3)"
   ]
  },
  {
   "cell_type": "code",
   "execution_count": 44,
   "metadata": {},
   "outputs": [
    {
     "data": {
      "text/plain": [
       "Survived           1.000000\n",
       "Sex                0.543351\n",
       "Sex_cat_B          0.543351\n",
       "Fare               0.257307\n",
       "Fare_category_2    0.233638\n",
       "Fare_category_9    0.182033\n",
       "Embarked_cat_B     0.168240\n",
       "Age_category_4     0.122239\n",
       "Embarked           0.106811\n",
       "Fare_cat           0.090540\n",
       "Parch              0.081629\n",
       "Fare_category_4    0.081127\n",
       "age_cat            0.048169\n",
       "Fare_category_7    0.036956\n",
       "Embarked_cat_C     0.003650\n",
       "Fare_category_3    0.002831\n",
       "Age_category_6    -0.000279\n",
       "PassengerId       -0.005007\n",
       "Fare_category_6   -0.007451\n",
       "Age_category_3    -0.011082\n",
       "Age_category_5    -0.031390\n",
       "Age_category_1    -0.031811\n",
       "Age_category_2    -0.033374\n",
       "SibSp             -0.035322\n",
       "Fare_category_8   -0.041166\n",
       "Age               -0.069809\n",
       "Fare_category_5   -0.115712\n",
       "Embarked_cat_A    -0.149683\n",
       "Fare_category_1   -0.222251\n",
       "Pclass            -0.338481\n",
       "Sex_cat_A         -0.543351\n",
       "Name: Survived, dtype: float64"
      ]
     },
     "execution_count": 44,
     "metadata": {},
     "output_type": "execute_result"
    }
   ],
   "source": [
    "corr_matrix = train_set.corr()\n",
    "corr_matrix['Survived'].sort_values(ascending=False)"
   ]
  },
  {
   "cell_type": "markdown",
   "metadata": {},
   "source": [
    "# Разделяю метки от данных"
   ]
  },
  {
   "cell_type": "code",
   "execution_count": 45,
   "metadata": {
    "scrolled": true
   },
   "outputs": [
    {
     "data": {
      "text/plain": [
       "Survived           1.000000\n",
       "Sex                0.543351\n",
       "Sex_cat_B          0.543351\n",
       "Fare               0.257307\n",
       "Fare_category_2    0.233638\n",
       "Fare_category_9    0.182033\n",
       "Embarked_cat_B     0.168240\n",
       "Age_category_4     0.122239\n",
       "Embarked           0.106811\n",
       "Fare_cat           0.090540\n",
       "Parch              0.081629\n",
       "Fare_category_4    0.081127\n",
       "age_cat            0.048169\n",
       "Fare_category_7    0.036956\n",
       "Embarked_cat_C     0.003650\n",
       "Fare_category_3    0.002831\n",
       "Age_category_6    -0.000279\n",
       "Fare_category_6   -0.007451\n",
       "Age_category_3    -0.011082\n",
       "Age_category_5    -0.031390\n",
       "Age_category_1    -0.031811\n",
       "Age_category_2    -0.033374\n",
       "SibSp             -0.035322\n",
       "Fare_category_8   -0.041166\n",
       "Age               -0.069809\n",
       "Fare_category_5   -0.115712\n",
       "Embarked_cat_A    -0.149683\n",
       "Fare_category_1   -0.222251\n",
       "Pclass            -0.338481\n",
       "Sex_cat_A         -0.543351\n",
       "Name: Survived, dtype: float64"
      ]
     },
     "execution_count": 45,
     "metadata": {},
     "output_type": "execute_result"
    }
   ],
   "source": [
    "attr_pr = ['Cabin', 'Name', 'Ticket', 'PassengerId']\n",
    "train_set_prepared = train_set.drop(attr_pr, axis=1)\n",
    "corr_matrix = train_set_prepared.corr()\n",
    "corr_matrix['Survived'].sort_values(ascending=False)"
   ]
  },
  {
   "cell_type": "code",
   "execution_count": 46,
   "metadata": {},
   "outputs": [],
   "source": [
    "attr = ['Survived','Cabin','PassengerId', 'Name', 'Ticket']\n",
    "y_train = train_set[\"Survived\"].copy()\n",
    "passenger_id = train_set['PassengerId'].copy()\n",
    "x_train = train_set.drop(attr,axis = 1)"
   ]
  },
  {
   "cell_type": "code",
   "execution_count": 47,
   "metadata": {},
   "outputs": [],
   "source": [
    "scaler = StandardScaler()\n",
    "x_train_scaled = scaler.fit_transform(x_train.astype(np.float64))"
   ]
  },
  {
   "cell_type": "markdown",
   "metadata": {},
   "source": [
    "## Выбор моделей "
   ]
  },
  {
   "cell_type": "markdown",
   "metadata": {},
   "source": [
    "Градиентный спуск"
   ]
  },
  {
   "cell_type": "code",
   "execution_count": 48,
   "metadata": {},
   "outputs": [
    {
     "name": "stderr",
     "output_type": "stream",
     "text": [
      "C:\\ProgramData\\Anaconda3\\lib\\site-packages\\sklearn\\linear_model\\stochastic_gradient.py:166: FutureWarning: max_iter and tol parameters have been added in SGDClassifier in 0.19. If both are left unset, they default to max_iter=5 and tol=None. If tol is not None, max_iter defaults to max_iter=1000. From 0.21, default max_iter will be 1000, and default tol will be 1e-3.\n",
      "  FutureWarning)\n"
     ]
    },
    {
     "data": {
      "text/plain": [
       "RandomizedSearchCV(cv=3, error_score='raise-deprecating',\n",
       "          estimator=SGDClassifier(alpha=0.0001, average=False, class_weight=None,\n",
       "       early_stopping=False, epsilon=0.1, eta0=0.0, fit_intercept=True,\n",
       "       l1_ratio=0.15, learning_rate='optimal', loss='hinge', max_iter=None,\n",
       "       n_iter=None, n_iter_no_change=5, n_jobs=None, penalty='l2',\n",
       "       power_t=0.5, random_state=None, shuffle=True, tol=None,\n",
       "       validation_fraction=0.1, verbose=0, warm_start=False),\n",
       "          fit_params=None, iid='warn', n_iter=4, n_jobs=-1,\n",
       "          param_distributions={'loss': ['hinge', 'log', 'modified_huber', 'squared_hinge']},\n",
       "          pre_dispatch='2*n_jobs', random_state=42, refit=True,\n",
       "          return_train_score='warn', scoring='accuracy', verbose=0)"
      ]
     },
     "execution_count": 48,
     "metadata": {},
     "output_type": "execute_result"
    }
   ],
   "source": [
    "sgd_clf = SGDClassifier()\n",
    "parametr_sgd = {'loss':['hinge', 'log', 'modified_huber','squared_hinge']\n",
    "                }\n",
    "random_search_sgd = RandomizedSearchCV(sgd_clf, param_distributions=parametr_sgd, n_iter=4, \n",
    "                                             scoring = 'accuracy', n_jobs=-1, cv=3, random_state=42)\n",
    "random_search_sgd.fit(x_train, y_train)"
   ]
  },
  {
   "cell_type": "markdown",
   "metadata": {},
   "source": [
    "Ближайшие соседи"
   ]
  },
  {
   "cell_type": "code",
   "execution_count": 49,
   "metadata": {},
   "outputs": [
    {
     "data": {
      "text/plain": [
       "RandomizedSearchCV(cv=3, error_score='raise-deprecating',\n",
       "          estimator=KNeighborsClassifier(algorithm='auto', leaf_size=30, metric='minkowski',\n",
       "           metric_params=None, n_jobs=None, n_neighbors=5, p=2,\n",
       "           weights='uniform'),\n",
       "          fit_params=None, iid='warn', n_iter=30, n_jobs=-1,\n",
       "          param_distributions={'n_neighbors': [1, 2, 3, 7, 11, 15, 50], 'weights': ['uniform', 'distance'], 'p': [1, 2], 'algorithm': ['auto', 'ball_tree', 'kd_tree', 'brute']},\n",
       "          pre_dispatch='2*n_jobs', random_state=42, refit=True,\n",
       "          return_train_score='warn', scoring='accuracy', verbose=0)"
      ]
     },
     "execution_count": 49,
     "metadata": {},
     "output_type": "execute_result"
    }
   ],
   "source": [
    "knn_clf = KNeighborsClassifier()\n",
    "parametr_knn = {'n_neighbors':[1,2,3,7,11,15,50],\n",
    "                'weights': ['uniform', 'distance'],\n",
    "                'p': [1, 2] ,\n",
    "                'algorithm' : ['auto', 'ball_tree', 'kd_tree', 'brute']  \n",
    "                }\n",
    "random_search_neighbors = RandomizedSearchCV(knn_clf, param_distributions=parametr_knn, n_iter=30, \n",
    "                                             scoring = 'accuracy', n_jobs=-1, cv=3, random_state=42)\n",
    "random_search_neighbors.fit(x_train_scaled, y_train)"
   ]
  },
  {
   "cell_type": "markdown",
   "metadata": {},
   "source": [
    "Опорные вектора"
   ]
  },
  {
   "cell_type": "code",
   "execution_count": 50,
   "metadata": {},
   "outputs": [
    {
     "data": {
      "text/plain": [
       "RandomizedSearchCV(cv=3, error_score='raise-deprecating',\n",
       "          estimator=SVC(C=1.0, cache_size=200, class_weight=None, coef0=0.0,\n",
       "  decision_function_shape='ovr', degree=3, gamma='auto_deprecated',\n",
       "  kernel='rbf', max_iter=-1, probability=False, random_state=None,\n",
       "  shrinking=True, tol=0.001, verbose=False),\n",
       "          fit_params=None, iid='warn', n_iter=100, n_jobs=-1,\n",
       "          param_distributions={'C': [0.5, 1, 5, 10, 15, 20, 30], 'kernel': ['rbf', 'linear', 'sigmoid'], 'gamma': [0.1, 0.3, 0.5, 1, 3, 5, 10]},\n",
       "          pre_dispatch='2*n_jobs', random_state=42, refit=True,\n",
       "          return_train_score='warn', scoring='accuracy', verbose=0)"
      ]
     },
     "execution_count": 50,
     "metadata": {},
     "output_type": "execute_result"
    }
   ],
   "source": [
    "vector_clf = SVC()\n",
    "parametr_vector = {'C':[0.5,1,5, 10, 15, 20, 30],\n",
    "                   'kernel':['rbf', 'linear','sigmoid'],\n",
    "                   'gamma': [0.1,0.3, 0.5, 1,3,5,10]\n",
    "                   } \n",
    "random_search_vector  = RandomizedSearchCV(vector_clf, param_distributions=parametr_vector, n_iter = 100, \n",
    "                                           scoring='accuracy', n_jobs=-1, cv=3, random_state=42)\n",
    "random_search_vector.fit(x_train_scaled, y_train)"
   ]
  },
  {
   "cell_type": "code",
   "execution_count": 51,
   "metadata": {},
   "outputs": [
    {
     "data": {
      "text/plain": [
       "{'kernel': 'rbf', 'gamma': 0.1, 'C': 20}"
      ]
     },
     "execution_count": 51,
     "metadata": {},
     "output_type": "execute_result"
    }
   ],
   "source": [
    "random_search_vector.best_params_"
   ]
  },
  {
   "cell_type": "markdown",
   "metadata": {},
   "source": [
    "Случайный лес"
   ]
  },
  {
   "cell_type": "code",
   "execution_count": 52,
   "metadata": {},
   "outputs": [
    {
     "name": "stderr",
     "output_type": "stream",
     "text": [
      "C:\\ProgramData\\Anaconda3\\lib\\site-packages\\sklearn\\model_selection\\_split.py:2053: FutureWarning: You should specify a value for 'cv' instead of relying on the default value. The default value will change from 3 to 5 in version 0.22.\n",
      "  warnings.warn(CV_WARNING, FutureWarning)\n"
     ]
    },
    {
     "data": {
      "text/plain": [
       "RandomizedSearchCV(cv='warn', error_score='raise-deprecating',\n",
       "          estimator=RandomForestClassifier(bootstrap=True, class_weight=None, criterion='gini',\n",
       "            max_depth=None, max_features='auto', max_leaf_nodes=None,\n",
       "            min_impurity_decrease=0.0, min_impurity_split=None,\n",
       "            min_samples_leaf=1, min_samples_split=2,\n",
       "            min_weight_fraction_leaf=0.0, n_estimators='warn', n_jobs=None,\n",
       "            oob_score=False, random_state=None, verbose=0,\n",
       "            warm_start=False),\n",
       "          fit_params=None, iid='warn', n_iter=20, n_jobs=-1,\n",
       "          param_distributions={'n_estimators': [2, 3, 5, 11, 20], 'bootstrap': [True, False], 'criterion': ['gini', 'entropy']},\n",
       "          pre_dispatch='2*n_jobs', random_state=42, refit=True,\n",
       "          return_train_score='warn', scoring='accuracy', verbose=0)"
      ]
     },
     "execution_count": 52,
     "metadata": {},
     "output_type": "execute_result"
    }
   ],
   "source": [
    "forest_clf = RandomForestClassifier()\n",
    "param_forest = {'n_estimators':[2,3,5,11,20],\n",
    "                'bootstrap': [True, False],\n",
    "                'criterion': ['gini', 'entropy']\n",
    "                }\n",
    "random_search_forest  = RandomizedSearchCV(forest_clf, param_distributions=param_forest, n_iter=20,\n",
    "                                          scoring='accuracy', n_jobs=-1, random_state=42)\n",
    "random_search_forest.fit(x_train_scaled, y_train)"
   ]
  },
  {
   "cell_type": "code",
   "execution_count": 53,
   "metadata": {},
   "outputs": [
    {
     "name": "stdout",
     "output_type": "stream",
     "text": [
      "Значение правильности для классификатора:  Градиентный спуск =  0.71829\n",
      "Значение правильности для классификатора:  Случайный лес =  0.81145\n",
      "Значение правильности для классификатора:  Ближайшие соседи =  0.78227\n",
      "Значение правильности для классификатора:  Опорные вектора = 0.79686\n"
     ]
    }
   ],
   "source": [
    "print(\"Значение правильности для классификатора: \", \"Градиентный спуск =  %.5f\" % (random_search_sgd.best_score_))\n",
    "print(\"Значение правильности для классификатора: \", \"Случайный лес =  %.5f\" % (random_search_forest.best_score_))\n",
    "print(\"Значение правильности для классификатора: \", \"Ближайшие соседи =  %.5f\" % (random_search_neighbors.best_score_))\n",
    "print(\"Значение правильности для классификатора: \", \"Опорные вектора = %.5f\" % (random_search_vector.best_score_))"
   ]
  },
  {
   "cell_type": "markdown",
   "metadata": {},
   "source": [
    "Высчитываем метрики"
   ]
  },
  {
   "cell_type": "code",
   "execution_count": 54,
   "metadata": {},
   "outputs": [],
   "source": [
    "def estimate_metrics (clf, X, y, cv = 3, n_jobs = -1):\n",
    "    y_pred = cross_val_predict(clf, X, y, cv = 3, n_jobs= -1)\n",
    "    conf_matrix = confusion_matrix(y, y_pred)\n",
    "    precision_clf = precision_score(y, y_pred)\n",
    "    recall_clf = recall_score(y, y_pred)\n",
    "    f1_clf = f1_score(y, y_pred)\n",
    "    print (\"Матрица неточностей: \", conf_matrix)\n",
    "    print (\"Точность: %.5f\" %precision_clf)\n",
    "    print (\"Полнота: %.5f\" %recall_clf)\n",
    "    print (\"Чувствительность: %.5f\" %f1_clf)"
   ]
  },
  {
   "cell_type": "code",
   "execution_count": 55,
   "metadata": {},
   "outputs": [
    {
     "name": "stdout",
     "output_type": "stream",
     "text": [
      "Матрица неточностей:  [[416 133]\n",
      " [126 216]]\n",
      "Точность: 0.61891\n",
      "Полнота: 0.63158\n",
      "Чувствительность: 0.62518\n"
     ]
    }
   ],
   "source": [
    "metrics_sgd = estimate_metrics(sgd_clf, x_train_scaled, y_train)"
   ]
  },
  {
   "cell_type": "code",
   "execution_count": 56,
   "metadata": {},
   "outputs": [
    {
     "name": "stdout",
     "output_type": "stream",
     "text": [
      "Матрица неточностей:  [[487  62]\n",
      " [107 235]]\n",
      "Точность: 0.79125\n",
      "Полнота: 0.68713\n",
      "Чувствительность: 0.73552\n"
     ]
    }
   ],
   "source": [
    "metrics_forest = estimate_metrics(forest_clf, x_train_scaled, y_train)"
   ]
  },
  {
   "cell_type": "code",
   "execution_count": 57,
   "metadata": {},
   "outputs": [
    {
     "name": "stdout",
     "output_type": "stream",
     "text": [
      "Матрица неточностей:  [[482  67]\n",
      " [108 234]]\n",
      "Точность: 0.77741\n",
      "Полнота: 0.68421\n",
      "Чувствительность: 0.72784\n"
     ]
    }
   ],
   "source": [
    "metrics_vector = estimate_metrics(vector_clf, x_train_scaled, y_train)"
   ]
  },
  {
   "cell_type": "code",
   "execution_count": 58,
   "metadata": {},
   "outputs": [
    {
     "name": "stdout",
     "output_type": "stream",
     "text": [
      "Матрица неточностей:  [[464  85]\n",
      " [128 214]]\n",
      "Точность: 0.71572\n",
      "Полнота: 0.62573\n",
      "Чувствительность: 0.66771\n"
     ]
    }
   ],
   "source": [
    "metrics_neighbors = estimate_metrics(knn_clf, x_train_scaled, y_train)"
   ]
  },
  {
   "cell_type": "markdown",
   "metadata": {},
   "source": [
    "# Прогноз на тестовом наборе"
   ]
  },
  {
   "cell_type": "code",
   "execution_count": 59,
   "metadata": {},
   "outputs": [],
   "source": [
    "mean_Fare_test = test_set[\"Fare\"].mean()\n",
    "test_set[\"Fare\"].fillna(mean_Fare_test, inplace = True)"
   ]
  },
  {
   "cell_type": "code",
   "execution_count": 60,
   "metadata": {},
   "outputs": [],
   "source": [
    "attr_test = ['Cabin', 'Name', 'Ticket', 'PassengerId']\n",
    "passenger_id = test_set['PassengerId'].copy()\n",
    "x_test = test_set.drop(attr_test, axis=1)\n",
    "x_test_scalled = scaler.fit_transform(x_test.astype(np.float64))"
   ]
  },
  {
   "cell_type": "code",
   "execution_count": 61,
   "metadata": {},
   "outputs": [],
   "source": [
    "test_result = random_search_vector.predict(x_test_scalled)"
   ]
  },
  {
   "cell_type": "code",
   "execution_count": 62,
   "metadata": {},
   "outputs": [],
   "source": [
    "test_result_knn = random_search_neighbors.predict(x_test_scalled)"
   ]
  },
  {
   "cell_type": "code",
   "execution_count": 63,
   "metadata": {},
   "outputs": [],
   "source": [
    "test_result_rf = random_search_forest.predict(x_test_scalled)"
   ]
  },
  {
   "cell_type": "markdown",
   "metadata": {},
   "source": [
    "# Собираю итоговый файл"
   ]
  },
  {
   "cell_type": "code",
   "execution_count": 64,
   "metadata": {},
   "outputs": [],
   "source": [
    "titanic_result = pd.DataFrame(data = passenger_id)"
   ]
  },
  {
   "cell_type": "code",
   "execution_count": 65,
   "metadata": {},
   "outputs": [],
   "source": [
    "titanic_result ['Survived'] = test_result"
   ]
  },
  {
   "cell_type": "code",
   "execution_count": 66,
   "metadata": {},
   "outputs": [],
   "source": [
    "titanic_result_knn = pd.DataFrame(data = passenger_id)\n",
    "titanic_result_knn['Survived'] = test_result_knn"
   ]
  },
  {
   "cell_type": "code",
   "execution_count": 67,
   "metadata": {},
   "outputs": [],
   "source": [
    "titanic_result_rf = pd.DataFrame(data = passenger_id)\n",
    "titanic_result_rf['Survived'] = test_result_rf"
   ]
  },
  {
   "cell_type": "code",
   "execution_count": 68,
   "metadata": {},
   "outputs": [],
   "source": [
    "titanic_result.to_csv('titanic_result_svc.csv', columns=['PassengerId', 'Survived'], index=False)\n",
    "titanic_result_knn.to_csv('titanic_result_knn.csv', columns=['PassengerId', 'Survived'], index=False)\n",
    "titanic_result_rf.to_csv('titanic_result_rf.csv', columns=['PassengerId', 'Survived'], index=False)"
   ]
  }
 ],
 "metadata": {
  "kernelspec": {
   "display_name": "Python 3",
   "language": "python",
   "name": "python3"
  },
  "language_info": {
   "codemirror_mode": {
    "name": "ipython",
    "version": 3
   },
   "file_extension": ".py",
   "mimetype": "text/x-python",
   "name": "python",
   "nbconvert_exporter": "python",
   "pygments_lexer": "ipython3",
   "version": "3.7.1"
  }
 },
 "nbformat": 4,
 "nbformat_minor": 2
}
