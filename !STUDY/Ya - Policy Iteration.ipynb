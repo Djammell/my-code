{
 "cells": [
  {
   "cell_type": "code",
   "execution_count": 1,
   "metadata": {},
   "outputs": [],
   "source": [
    "transition_probs = {\n",
    "    's0': {\n",
    "        'a0':{'s0':0.5, 's2':0.5},\n",
    "        'a1':{'s1':1.0}\n",
    "          },\n",
    "    's1': {\n",
    "        'a0': {'s0':0.7 ,'s1':0.1 ,'s2':0.2},\n",
    "        'a1':{'s1':0.95 ,'s2':0.05},\n",
    "          },\n",
    "    's2':{\n",
    "        'a0': {'s0':0.4 ,'s2':0.6},\n",
    "        'a1': {'s0':0.3 ,'s1':0.3 ,'s2':0.4}    \n",
    "         }\n",
    "}\n",
    "rewards = {\n",
    "    's1':{'a0':{'s0': +5}},\n",
    "    's2':{'a1':{'s0': +1}}\n",
    "}\n",
    "from mdp import MDP\n",
    "mdp = MDP(transition_probs, rewards, initial_state='s0')"
   ]
  },
  {
   "cell_type": "code",
   "execution_count": 49,
   "metadata": {
    "scrolled": true
   },
   "outputs": [
    {
     "data": {
      "text/plain": [
       "['__class__',\n",
       " '__delattr__',\n",
       " '__dict__',\n",
       " '__dir__',\n",
       " '__doc__',\n",
       " '__eq__',\n",
       " '__format__',\n",
       " '__ge__',\n",
       " '__getattribute__',\n",
       " '__gt__',\n",
       " '__hash__',\n",
       " '__init__',\n",
       " '__init_subclass__',\n",
       " '__le__',\n",
       " '__lt__',\n",
       " '__module__',\n",
       " '__ne__',\n",
       " '__new__',\n",
       " '__reduce__',\n",
       " '__reduce_ex__',\n",
       " '__repr__',\n",
       " '__setattr__',\n",
       " '__sizeof__',\n",
       " '__str__',\n",
       " '__subclasshook__',\n",
       " '__weakref__',\n",
       " '_check_param_consistency',\n",
       " 'get_all_states',\n",
       " 'get_next_states',\n",
       " 'get_possible_actions',\n",
       " 'get_reward',\n",
       " 'get_transition_prob',\n",
       " 'is_terminal',\n",
       " 'render',\n",
       " 'reset',\n",
       " 'step']"
      ]
     },
     "execution_count": 49,
     "metadata": {},
     "output_type": "execute_result"
    }
   ],
   "source": [
    "dir(MDP)"
   ]
  },
  {
   "cell_type": "code",
   "execution_count": 3,
   "metadata": {},
   "outputs": [],
   "source": [
    "import numpy as np"
   ]
  },
  {
   "cell_type": "code",
   "execution_count": 4,
   "metadata": {},
   "outputs": [],
   "source": [
    "policy = {s: np.random.choice(\n",
    "    mdp.get_possible_actions(s)) for s in mdp.get_all_states()}"
   ]
  },
  {
   "cell_type": "code",
   "execution_count": 8,
   "metadata": {},
   "outputs": [],
   "source": [
    "import numpy as np\n",
    "def compute_vpi (mdp, policy, gamma):\n",
    "    policy = {s: np.random.choice(\n",
    "    mdp.get_possible_actions(s)) for s in mdp.get_all_states()}\n",
    "    vpi_s = {state: 0 for state in mdp.get_all_states()} # перед тем как начать вычислять функцию ценности инициализируем ее нулями здесь для всех состояний среды\n",
    "    vpi = vpi_s.copy()\n",
    "    for state in policy:\n",
    "        action = policy[state]\n",
    "        for next_state in mdp.get_next_states(state, action):\n",
    "            reward = mdp.get_reward(state, action, next_state)\n",
    "            transition_prob = mdp.get_transition_prob(state, action, next_state)\n",
    "            vpi[state] += transition_prob*(reward+gamma*vpi_s[next_state])\n",
    "            \n",
    "    return vpi"
   ]
  },
  {
   "cell_type": "code",
   "execution_count": 9,
   "metadata": {},
   "outputs": [],
   "source": [
    "def compute_new_policy (mdp, vpi, gamma):\n",
    "    \"\"\"\n",
    "    Computes new policy as argmax of state values\n",
    "    :param vpi: a dict {state : V^pi(state) for all states}\n",
    "    :returns: a dict {state : optimal action for all states}\n",
    "    \"\"\"\n",
    "    policy = {s: np.random.choice(\n",
    "    mdp.get_possible_actions(s)) for s in mdp.get_all_states()}\n",
    "    for state in mdp.get_all_states():\n",
    "        q_value_state = []\n",
    "        for action in mdp.get_possible_actions(state):\n",
    "            q_value_action = 0.\n",
    "            for next_state in mdp.get_next_states(state, action):\n",
    "                p = mdp.get_transition_prob(state, action, next_state)\n",
    "                r = mdp.get_reward(state, action, next_state)\n",
    "                q_value_action += p*(r+gamma*vpi[next_state])\n",
    "            q_value_state.append(q_value_action) \n",
    "        q_value = np.max(q_value_state)\n",
    "    new_policy = {state: np.argmax(q_value_state)}\n",
    "         \n",
    "    return new_policy"
   ]
  },
  {
   "cell_type": "code",
   "execution_count": 17,
   "metadata": {},
   "outputs": [
    {
     "name": "stdout",
     "output_type": "stream",
     "text": [
      "{'s2': 1}\n"
     ]
    }
   ],
   "source": [
    "vpi = compute_vpi(mdp, policy, gamma = 1.)\n",
    "x = compute_new_policy(mdp, vpi, gamma = 1.)\n",
    "\n",
    "print (x)"
   ]
  },
  {
   "cell_type": "code",
   "execution_count": null,
   "metadata": {},
   "outputs": [],
   "source": []
  }
 ],
 "metadata": {
  "kernelspec": {
   "display_name": "Python 3",
   "language": "python",
   "name": "python3"
  },
  "language_info": {
   "codemirror_mode": {
    "name": "ipython",
    "version": 3
   },
   "file_extension": ".py",
   "mimetype": "text/x-python",
   "name": "python",
   "nbconvert_exporter": "python",
   "pygments_lexer": "ipython3",
   "version": "3.7.1"
  }
 },
 "nbformat": 4,
 "nbformat_minor": 2
}
